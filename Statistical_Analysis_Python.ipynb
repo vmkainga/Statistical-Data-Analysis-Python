{
  "nbformat": 4,
  "nbformat_minor": 0,
  "metadata": {
    "colab": {
      "name": " Statistical Analysis - Python",
      "provenance": [],
      "collapsed_sections": [
        "XecOwPNorl2W",
        "J4wfHZwQrs-t",
        "a9BPYqunry97",
        "7KMRBJ7zr9HD",
        "zSGyg6kWsBUl"
      ]
    },
    "kernelspec": {
      "display_name": "Python 3 (ipykernel)",
      "language": "python",
      "name": "python3"
    },
    "language_info": {
      "codemirror_mode": {
        "name": "ipython",
        "version": 3
      },
      "file_extension": ".py",
      "mimetype": "text/x-python",
      "name": "python",
      "nbconvert_exporter": "python",
      "pygments_lexer": "ipython3",
      "version": "3.9.5"
    }
  },
  "cells": [
    {
      "cell_type": "markdown",
      "metadata": {
        "id": "kLG2VTrnTvYL"
      },
      "source": [
        "## <font color='#2F4F4F'>1. Defining the Question</font>"
      ]
    },
    {
      "cell_type": "markdown",
      "metadata": {
        "id": "XecOwPNorl2W"
      },
      "source": [
        "### a) Specifying the Data Analysis Question\n",
        "The task for this project will be to perform univariate and bivariate analysis in an effort to\n",
        "prepare your data for modeling in the later stages.\n"
      ]
    },
    {
      "cell_type": "markdown",
      "metadata": {
        "id": "J4wfHZwQrs-t"
      },
      "source": [
        "### b) Defining the Metric for Success\n",
        "\n",
        "Ability to perform univariate and bivariate analysis"
      ]
    },
    {
      "cell_type": "markdown",
      "metadata": {
        "id": "a9BPYqunry97"
      },
      "source": [
        "### c) Understanding the context \n",
        "\n",
        "The management of a certain NGO Hospital would like to have a product developed that\n",
        "would make predictions on whether a person has diabetics or not.\n",
        "The data were collected and made available by “National Institute of Diabetes and\n",
        "Digestive and Kidney Diseases” as part of the Pima Indians Diabetes Database. Several\n",
        "constraints were placed on the selection of these instances from a larger database. In\n",
        "particular, all patients here belong to the Pima Indian heritage (a subgroup of Native\n",
        "Americans) and are females of ages 21 and above."
      ]
    },
    {
      "cell_type": "markdown",
      "metadata": {
        "id": "7KMRBJ7zr9HD"
      },
      "source": [
        "### d) Recording the Experimental Design\n",
        "\n",
        "Load libraries and datasets.\n",
        "\n",
        "Select the most appropriate variables to work with.\n",
        "\n",
        "Plot and analyse variables"
      ]
    },
    {
      "cell_type": "markdown",
      "metadata": {
        "id": "zSGyg6kWsBUl"
      },
      "source": [
        "### e) Data Relevance\n",
        "Yes, the data provided was relevant"
      ]
    },
    {
      "cell_type": "markdown",
      "metadata": {
        "id": "iUNbvIvnT7ep"
      },
      "source": [
        "## <font color='#2F4F4F'>2. Data Cleaning & Preparation</font>"
      ]
    },
    {
      "cell_type": "code",
      "metadata": {
        "id": "AMreDPhDZAbP"
      },
      "source": [
        "# load libraries\n",
        "import pandas as pd\n",
        "\n",
        "import matplotlib.pyplot as plt\n",
        "import seaborn as sns"
      ],
      "execution_count": null,
      "outputs": []
    },
    {
      "cell_type": "code",
      "metadata": {
        "colab": {
          "base_uri": "https://localhost:8080/",
          "height": 143
        },
        "id": "XJn2KjW-WMlG",
        "outputId": "561f63fb-1a0e-4978-9911-7722ea122f96"
      },
      "source": [
        "# load and preview dataset\n",
        "# diabetes = pd.read_csv('https://bit.ly/3eoAbDS')\n",
        "diabetes = pd.read_csv(\"https://bit.ly/3eoAbDS\")\n",
        "diabetes.sample(3)"
      ],
      "execution_count": null,
      "outputs": [
        {
          "output_type": "execute_result",
          "data": {
            "text/html": [
              "<div>\n",
              "<style scoped>\n",
              "    .dataframe tbody tr th:only-of-type {\n",
              "        vertical-align: middle;\n",
              "    }\n",
              "\n",
              "    .dataframe tbody tr th {\n",
              "        vertical-align: top;\n",
              "    }\n",
              "\n",
              "    .dataframe thead th {\n",
              "        text-align: right;\n",
              "    }\n",
              "</style>\n",
              "<table border=\"1\" class=\"dataframe\">\n",
              "  <thead>\n",
              "    <tr style=\"text-align: right;\">\n",
              "      <th></th>\n",
              "      <th>Pregnancies</th>\n",
              "      <th>Glucose</th>\n",
              "      <th>BloodPressure</th>\n",
              "      <th>SkinThickness</th>\n",
              "      <th>Insulin</th>\n",
              "      <th>BMI</th>\n",
              "      <th>DiabetesPedigreeFunction</th>\n",
              "      <th>Age</th>\n",
              "      <th>Outcome</th>\n",
              "    </tr>\n",
              "  </thead>\n",
              "  <tbody>\n",
              "    <tr>\n",
              "      <th>342</th>\n",
              "      <td>1</td>\n",
              "      <td>0</td>\n",
              "      <td>68</td>\n",
              "      <td>35</td>\n",
              "      <td>0</td>\n",
              "      <td>32.0</td>\n",
              "      <td>0.389</td>\n",
              "      <td>22</td>\n",
              "      <td>0</td>\n",
              "    </tr>\n",
              "    <tr>\n",
              "      <th>199</th>\n",
              "      <td>4</td>\n",
              "      <td>148</td>\n",
              "      <td>60</td>\n",
              "      <td>27</td>\n",
              "      <td>318</td>\n",
              "      <td>30.9</td>\n",
              "      <td>0.150</td>\n",
              "      <td>29</td>\n",
              "      <td>1</td>\n",
              "    </tr>\n",
              "    <tr>\n",
              "      <th>225</th>\n",
              "      <td>1</td>\n",
              "      <td>87</td>\n",
              "      <td>78</td>\n",
              "      <td>27</td>\n",
              "      <td>32</td>\n",
              "      <td>34.6</td>\n",
              "      <td>0.101</td>\n",
              "      <td>22</td>\n",
              "      <td>0</td>\n",
              "    </tr>\n",
              "  </tbody>\n",
              "</table>\n",
              "</div>"
            ],
            "text/plain": [
              "     Pregnancies  Glucose  ...  Age  Outcome\n",
              "342            1        0  ...   22        0\n",
              "199            4      148  ...   29        1\n",
              "225            1       87  ...   22        0\n",
              "\n",
              "[3 rows x 9 columns]"
            ]
          },
          "metadata": {},
          "execution_count": 21
        }
      ]
    },
    {
      "cell_type": "code",
      "metadata": {
        "colab": {
          "base_uri": "https://localhost:8080/"
        },
        "id": "D6g3-iURZAbq",
        "outputId": "0d8b51ee-b107-41a1-eaca-ca8b1aaecf50"
      },
      "source": [
        "# preview dataset shape\n",
        "\n",
        "diabetes.shape"
      ],
      "execution_count": null,
      "outputs": [
        {
          "output_type": "execute_result",
          "data": {
            "text/plain": [
              "(768, 9)"
            ]
          },
          "metadata": {},
          "execution_count": 5
        }
      ]
    },
    {
      "cell_type": "code",
      "metadata": {
        "colab": {
          "base_uri": "https://localhost:8080/"
        },
        "id": "wJUqDIg8ZAbu",
        "outputId": "e0d2664a-db71-4db2-f052-b174ef241dce"
      },
      "source": [
        "# look for duplicates\n",
        "diabetes.duplicated().sum()\n"
      ],
      "execution_count": null,
      "outputs": [
        {
          "output_type": "execute_result",
          "data": {
            "text/plain": [
              "0"
            ]
          },
          "metadata": {},
          "execution_count": 8
        }
      ]
    },
    {
      "cell_type": "code",
      "metadata": {
        "colab": {
          "base_uri": "https://localhost:8080/"
        },
        "id": "7ehwywpWZAby",
        "outputId": "e804ee49-3e1c-4b9e-be51-f5a0a4df64f3"
      },
      "source": [
        "# look for missing records\n",
        "\n",
        "diabetes.isnull().sum()"
      ],
      "execution_count": null,
      "outputs": [
        {
          "output_type": "execute_result",
          "data": {
            "text/plain": [
              "Pregnancies                 0\n",
              "Glucose                     0\n",
              "BloodPressure               0\n",
              "SkinThickness               0\n",
              "Insulin                     0\n",
              "BMI                         0\n",
              "DiabetesPedigreeFunction    0\n",
              "Age                         0\n",
              "Outcome                     0\n",
              "dtype: int64"
            ]
          },
          "metadata": {},
          "execution_count": 9
        }
      ]
    },
    {
      "cell_type": "code",
      "metadata": {
        "colab": {
          "base_uri": "https://localhost:8080/"
        },
        "id": "_Hfd5Iw4ZAb1",
        "outputId": "155b17b1-d88f-478a-d008-83ae5fac4d50"
      },
      "source": [
        "# preview datatypes\n",
        "\n",
        "diabetes.dtypes"
      ],
      "execution_count": null,
      "outputs": [
        {
          "output_type": "execute_result",
          "data": {
            "text/plain": [
              "Pregnancies                   int64\n",
              "Glucose                       int64\n",
              "BloodPressure                 int64\n",
              "SkinThickness                 int64\n",
              "Insulin                       int64\n",
              "BMI                         float64\n",
              "DiabetesPedigreeFunction    float64\n",
              "Age                           int64\n",
              "Outcome                       int64\n",
              "dtype: object"
            ]
          },
          "metadata": {},
          "execution_count": 12
        }
      ]
    },
    {
      "cell_type": "code",
      "metadata": {
        "colab": {
          "base_uri": "https://localhost:8080/"
        },
        "id": "rLFc529BZAb8",
        "outputId": "ed109880-3628-40b2-e820-2733b912dcf3"
      },
      "source": [
        "# check for outliers\n",
        "import numpy as np\n",
        "from scipy import stats\n",
        "z = np.abs(stats.zscore(diabetes))\n",
        "z"
      ],
      "execution_count": null,
      "outputs": [
        {
          "output_type": "execute_result",
          "data": {
            "text/plain": [
              "array([[0.63994726, 0.84832379, 0.14964075, ..., 0.46849198, 1.4259954 ,\n",
              "        1.36589591],\n",
              "       [0.84488505, 1.12339636, 0.16054575, ..., 0.36506078, 0.19067191,\n",
              "        0.73212021],\n",
              "       [1.23388019, 1.94372388, 0.26394125, ..., 0.60439732, 0.10558415,\n",
              "        1.36589591],\n",
              "       ...,\n",
              "       [0.3429808 , 0.00330087, 0.14964075, ..., 0.68519336, 0.27575966,\n",
              "        0.73212021],\n",
              "       [0.84488505, 0.1597866 , 0.47073225, ..., 0.37110101, 1.17073215,\n",
              "        1.36589591],\n",
              "       [0.84488505, 0.8730192 , 0.04624525, ..., 0.47378505, 0.87137393,\n",
              "        0.73212021]])"
            ]
          },
          "metadata": {},
          "execution_count": 15
        }
      ]
    },
    {
      "cell_type": "markdown",
      "metadata": {
        "id": "xvs-X851ZAb_"
      },
      "source": [
        "## <font color='#2F4F4F'>3. Data Analysis</font>"
      ]
    },
    {
      "cell_type": "markdown",
      "metadata": {
        "id": "pSm8G5AsZAcA"
      },
      "source": [
        "### 3.1 General Analysis"
      ]
    },
    {
      "cell_type": "code",
      "metadata": {
        "colab": {
          "base_uri": "https://localhost:8080/",
          "height": 350
        },
        "id": "1ppD3jdkZAcB",
        "outputId": "85e7b714-c888-4132-ba7b-ff384576598d"
      },
      "source": [
        "# distribution of Pregnancies\n",
        "fig, axes = plt.subplots(nrows = 1, ncols = 2, figsize = (12, 4))\n",
        "\n",
        "plt.subplot(1, 2, 1)\n",
        "diabetes.Pregnancies.hist(color = '#ff7f0e')\n",
        "plt.title('Histogram of Pregnancies')\n",
        "\n",
        "plt.subplot(1, 2, 2)\n",
        "sns.boxplot(diabetes.Pregnancies, color = '#9467bd')\n",
        "plt.title('Box plot of Pregnancies')\n",
        "\n",
        "plt.show()"
      ],
      "execution_count": null,
      "outputs": [
        {
          "output_type": "stream",
          "name": "stderr",
          "text": [
            "/usr/local/lib/python3.7/dist-packages/seaborn/_decorators.py:43: FutureWarning: Pass the following variable as a keyword arg: x. From version 0.12, the only valid positional argument will be `data`, and passing other arguments without an explicit keyword will result in an error or misinterpretation.\n",
            "  FutureWarning\n"
          ]
        },
        {
          "output_type": "display_data",
          "data": {
            "image/png": "[encoded data removed]",
            "text/plain": [
              "<Figure size 864x288 with 2 Axes>"
            ]
          },
          "metadata": {
            "needs_background": "light"
          }
        }
      ]
    },
    {
      "cell_type": "code",
      "metadata": {
        "colab": {
          "base_uri": "https://localhost:8080/"
        },
        "id": "X8yE4EwKZAcP",
        "outputId": "07885e7c-81f2-46e3-e28f-1206cf99d338"
      },
      "source": [
        "# summary statistics of Pregnancies\n",
        "diabetes.Pregnancies.describe()"
      ],
      "execution_count": null,
      "outputs": [
        {
          "output_type": "execute_result",
          "data": {
            "text/plain": [
              "count    768.000000\n",
              "mean       3.845052\n",
              "std        3.369578\n",
              "min        0.000000\n",
              "25%        1.000000\n",
              "50%        3.000000\n",
              "75%        6.000000\n",
              "max       17.000000\n",
              "Name: Pregnancies, dtype: float64"
            ]
          },
          "metadata": {},
          "execution_count": 17
        }
      ]
    },
    {
      "cell_type": "markdown",
      "metadata": {
        "id": "fPpMNHkiZAcY"
      },
      "source": [
        "What do you observe about the Pregnancies variable?"
      ]
    },
    {
      "cell_type": "markdown",
      "metadata": {
        "id": "HIMjHbiQ4lw-"
      },
      "source": [
        "1. Most people had 0 or 1 pregnancies\n",
        "2. Median pregnancies were 3\n",
        "3. Maximum pregnancies recorded were 17\n",
        "\n"
      ]
    },
    {
      "cell_type": "code",
      "metadata": {
        "colab": {
          "base_uri": "https://localhost:8080/",
          "height": 350
        },
        "id": "cY1vqvh2ZAce",
        "outputId": "c1b19ad8-a983-4669-d6ba-575c5756c2ff"
      },
      "source": [
        "# distribution of Glucose\n",
        "\n",
        "fig, axes = plt.subplots(nrows = 1, ncols = 2, figsize = (12, 4))\n",
        "\n",
        "plt.subplot(1, 2, 1)\n",
        "diabetes.Glucose.hist(color = '#ff7f0e')\n",
        "plt.title('Histogram of Glucose')\n",
        "\n",
        "plt.subplot(1, 2, 2)\n",
        "sns.boxplot(diabetes.Glucose, color = '#9467bd')\n",
        "plt.title('Box plot of Glucose')\n",
        "\n",
        "plt.show()"
      ],
      "execution_count": null,
      "outputs": [
        {
          "output_type": "stream",
          "name": "stderr",
          "text": [
            "/usr/local/lib/python3.7/dist-packages/seaborn/_decorators.py:43: FutureWarning: Pass the following variable as a keyword arg: x. From version 0.12, the only valid positional argument will be `data`, and passing other arguments without an explicit keyword will result in an error or misinterpretation.\n",
            "  FutureWarning\n"
          ]
        },
        {
          "output_type": "display_data",
          "data": {
            "image/png": "[encoded data removed]",
            "text/plain": [
              "<Figure size 864x288 with 2 Axes>"
            ]
          },
          "metadata": {
            "needs_background": "light"
          }
        }
      ]
    },
    {
      "cell_type": "code",
      "metadata": {
        "colab": {
          "base_uri": "https://localhost:8080/"
        },
        "id": "xfKKayNNZAcj",
        "outputId": "ebd3548e-c962-4f3b-cc7c-2bdaf66f0b1d"
      },
      "source": [
        "# summary statistics of Glucose\n",
        "diabetes.Glucose.describe()"
      ],
      "execution_count": null,
      "outputs": [
        {
          "output_type": "execute_result",
          "data": {
            "text/plain": [
              "count    768.000000\n",
              "mean     120.894531\n",
              "std       31.972618\n",
              "min        0.000000\n",
              "25%       99.000000\n",
              "50%      117.000000\n",
              "75%      140.250000\n",
              "max      199.000000\n",
              "Name: Glucose, dtype: float64"
            ]
          },
          "metadata": {},
          "execution_count": 19
        }
      ]
    },
    {
      "cell_type": "markdown",
      "metadata": {
        "id": "cV7layUoZAcm"
      },
      "source": [
        "What do you observe about the Glucose variable?"
      ]
    },
    {
      "cell_type": "markdown",
      "metadata": {
        "id": "VhTeZNDA6HBT"
      },
      "source": [
        "1. Median glucose value was 117\n",
        "2. maximum  recorded glucose value was 199\n",
        "3. Average glucose level  was 120.89\n",
        "\n"
      ]
    },
    {
      "cell_type": "code",
      "metadata": {
        "colab": {
          "base_uri": "https://localhost:8080/",
          "height": 350
        },
        "id": "zVUfjFBhZAcv",
        "outputId": "0ef3262c-4321-4e52-9f9a-a1ff2633c431"
      },
      "source": [
        "# distribution of BloodPressure\n",
        "\n",
        "fig, axes = plt.subplots(nrows = 1, ncols = 2, figsize = (12, 4))\n",
        "\n",
        "plt.subplot(1, 2, 1)\n",
        "diabetes.BloodPressure.hist(color = '#ff7f0e')\n",
        "plt.title('Histogram of BloodPressure')\n",
        "\n",
        "plt.subplot(1, 2, 2)\n",
        "sns.boxplot(diabetes.BloodPressure, color = '#9467bd')\n",
        "plt.title('Box plot of BloodPressure')\n",
        "\n",
        "plt.show()"
      ],
      "execution_count": null,
      "outputs": [
        {
          "output_type": "stream",
          "name": "stderr",
          "text": [
            "/usr/local/lib/python3.7/dist-packages/seaborn/_decorators.py:43: FutureWarning: Pass the following variable as a keyword arg: x. From version 0.12, the only valid positional argument will be `data`, and passing other arguments without an explicit keyword will result in an error or misinterpretation.\n",
            "  FutureWarning\n"
          ]
        },
        {
          "output_type": "display_data",
          "data": {
            "image/png": "[encoded data removed]",
            "text/plain": [
              "<Figure size 864x288 with 2 Axes>"
            ]
          },
          "metadata": {
            "needs_background": "light"
          }
        }
      ]
    },
    {
      "cell_type": "code",
      "metadata": {
        "colab": {
          "base_uri": "https://localhost:8080/"
        },
        "id": "p6_BfRIIZAcz",
        "outputId": "a113f114-ea08-48bd-8bbc-282e07cf58c3"
      },
      "source": [
        "# summary statistics of BloodPressure\n",
        "\n",
        "diabetes.BloodPressure.describe()"
      ],
      "execution_count": null,
      "outputs": [
        {
          "output_type": "execute_result",
          "data": {
            "text/plain": [
              "count    768.000000\n",
              "mean      69.105469\n",
              "std       19.355807\n",
              "min        0.000000\n",
              "25%       62.000000\n",
              "50%       72.000000\n",
              "75%       80.000000\n",
              "max      122.000000\n",
              "Name: BloodPressure, dtype: float64"
            ]
          },
          "metadata": {},
          "execution_count": 23
        }
      ]
    },
    {
      "cell_type": "markdown",
      "metadata": {
        "id": "sDiu5Aj-ZAc4"
      },
      "source": [
        "Note your observations."
      ]
    },
    {
      "cell_type": "markdown",
      "metadata": {
        "id": "QLHEs3YWc-jF"
      },
      "source": [
        "1. Median Blood Pressure value was 72\n",
        "2. Maximum recorded Blood Pressure value was 122\n",
        "3. Average Blood Pressure  was 69.10\n",
        "4. Most people had a Blood Pressure range of about 66"
      ]
    },
    {
      "cell_type": "code",
      "metadata": {
        "colab": {
          "base_uri": "https://localhost:8080/",
          "height": 350
        },
        "id": "xXqEyOlvZAc9",
        "outputId": "d034f4f7-9c17-4518-901e-fcf5b7705860"
      },
      "source": [
        "# distribution of SkinThickness\n",
        "\n",
        "fig, axes = plt.subplots(nrows = 1, ncols = 2, figsize = (12, 4))\n",
        "\n",
        "plt.subplot(1, 2, 1)\n",
        "diabetes.SkinThickness.hist(color = '#ff7f0e')\n",
        "plt.title('Histogram of SkinThickness')\n",
        "\n",
        "plt.subplot(1, 2, 2)\n",
        "sns.boxplot(diabetes.SkinThickness, color = '#9467bd')\n",
        "plt.title('Box plot of SkinThickness')\n",
        "\n",
        "plt.show()"
      ],
      "execution_count": null,
      "outputs": [
        {
          "output_type": "stream",
          "name": "stderr",
          "text": [
            "/usr/local/lib/python3.7/dist-packages/seaborn/_decorators.py:43: FutureWarning: Pass the following variable as a keyword arg: x. From version 0.12, the only valid positional argument will be `data`, and passing other arguments without an explicit keyword will result in an error or misinterpretation.\n",
            "  FutureWarning\n"
          ]
        },
        {
          "output_type": "display_data",
          "data": {
            "image/png": "[encoded data removed]",
            "text/plain": [
              "<Figure size 864x288 with 2 Axes>"
            ]
          },
          "metadata": {
            "needs_background": "light"
          }
        }
      ]
    },
    {
      "cell_type": "code",
      "metadata": {
        "colab": {
          "base_uri": "https://localhost:8080/"
        },
        "id": "CsgtvCAnZAdB",
        "outputId": "d954441c-5e3a-4fe9-d4af-815921d5fd78"
      },
      "source": [
        "# summary statistics of SkinThickness\n",
        "\n",
        "diabetes.SkinThickness.describe()"
      ],
      "execution_count": null,
      "outputs": [
        {
          "output_type": "execute_result",
          "data": {
            "text/plain": [
              "count    768.000000\n",
              "mean      20.536458\n",
              "std       15.952218\n",
              "min        0.000000\n",
              "25%        0.000000\n",
              "50%       23.000000\n",
              "75%       32.000000\n",
              "max       99.000000\n",
              "Name: SkinThickness, dtype: float64"
            ]
          },
          "metadata": {},
          "execution_count": 25
        }
      ]
    },
    {
      "cell_type": "markdown",
      "metadata": {
        "id": "wBiwdAAXZAdE"
      },
      "source": [
        "Note your observations."
      ]
    },
    {
      "cell_type": "markdown",
      "metadata": {
        "id": "ok7d_oOUd-ea"
      },
      "source": [
        "1. Average skin thickness was 20.53\n",
        "2. Median skin thickness was 23\n",
        "3. Maximum skin thickness  recorded was 99\n",
        "4. Variable had only one outlier"
      ]
    },
    {
      "cell_type": "code",
      "metadata": {
        "colab": {
          "base_uri": "https://localhost:8080/",
          "height": 350
        },
        "id": "II8w8PDnZAdI",
        "outputId": "56ece41d-ddf8-41a8-97ae-9fcc2648a23f"
      },
      "source": [
        "# distribution of Insulin\n",
        "\n",
        "\n",
        "fig, axes = plt.subplots(nrows = 1, ncols = 2, figsize = (12, 4))\n",
        "\n",
        "plt.subplot(1, 2, 1)\n",
        "diabetes.Insulin.hist(color = '#ff7f0e')\n",
        "plt.title('Histogram of Insulin')\n",
        "\n",
        "plt.subplot(1, 2, 2)\n",
        "sns.boxplot(diabetes.Insulin, color = '#9467bd')\n",
        "plt.title('Box plot of Insulin')\n",
        "\n",
        "plt.show()"
      ],
      "execution_count": null,
      "outputs": [
        {
          "output_type": "stream",
          "name": "stderr",
          "text": [
            "/usr/local/lib/python3.7/dist-packages/seaborn/_decorators.py:43: FutureWarning: Pass the following variable as a keyword arg: x. From version 0.12, the only valid positional argument will be `data`, and passing other arguments without an explicit keyword will result in an error or misinterpretation.\n",
            "  FutureWarning\n"
          ]
        },
        {
          "output_type": "display_data",
          "data": {
            "image/png": "[encoded data removed]",
            "text/plain": [
              "<Figure size 864x288 with 2 Axes>"
            ]
          },
          "metadata": {
            "needs_background": "light"
          }
        }
      ]
    },
    {
      "cell_type": "code",
      "metadata": {
        "colab": {
          "base_uri": "https://localhost:8080/"
        },
        "id": "jIGBJ72zZAdM",
        "outputId": "6b5e35ce-06a7-476e-e4f6-4e262cb3dcd1"
      },
      "source": [
        "# summary statistics of Insulin\n",
        "diabetes.Insulin.describe()"
      ],
      "execution_count": null,
      "outputs": [
        {
          "output_type": "execute_result",
          "data": {
            "text/plain": [
              "count    768.000000\n",
              "mean      79.799479\n",
              "std      115.244002\n",
              "min        0.000000\n",
              "25%        0.000000\n",
              "50%       30.500000\n",
              "75%      127.250000\n",
              "max      846.000000\n",
              "Name: Insulin, dtype: float64"
            ]
          },
          "metadata": {},
          "execution_count": 27
        }
      ]
    },
    {
      "cell_type": "markdown",
      "metadata": {
        "id": "rOh7fLbtZAdR"
      },
      "source": [
        "Note your observations."
      ]
    },
    {
      "cell_type": "markdown",
      "metadata": {
        "id": "FFADNfA4pLTN"
      },
      "source": [
        "1. Maximum insulin level recorded is 846\n",
        "2. Average insulin levels was 79.79\n",
        "3. Median Insulin level was 30.5\n",
        "4. Insulin variable had a large number of outliers\n",
        "5. There are missing values, i.e where insulin = 0"
      ]
    },
    {
      "cell_type": "code",
      "metadata": {
        "colab": {
          "base_uri": "https://localhost:8080/",
          "height": 350
        },
        "id": "Rofh9sMEZAdV",
        "outputId": "caba09c9-0f80-424c-ca4e-7a0211a37427"
      },
      "source": [
        "# distribution of BMI\n",
        "fig, axes = plt.subplots(nrows = 1, ncols = 2, figsize = (12, 4))\n",
        "\n",
        "plt.subplot(1, 2, 1)\n",
        "diabetes.BMI.hist(color = '#ff7f0e')\n",
        "plt.title('Histogram of BMI')\n",
        "\n",
        "plt.subplot(1, 2, 2)\n",
        "sns.boxplot(diabetes.BMI, color = '#9467bd')\n",
        "plt.title('Box plot of BMI')\n",
        "\n",
        "plt.show()"
      ],
      "execution_count": null,
      "outputs": [
        {
          "output_type": "stream",
          "name": "stderr",
          "text": [
            "/usr/local/lib/python3.7/dist-packages/seaborn/_decorators.py:43: FutureWarning: Pass the following variable as a keyword arg: x. From version 0.12, the only valid positional argument will be `data`, and passing other arguments without an explicit keyword will result in an error or misinterpretation.\n",
            "  FutureWarning\n"
          ]
        },
        {
          "output_type": "display_data",
          "data": {
            "image/png": "[encoded data removed]",
            "text/plain": [
              "<Figure size 864x288 with 2 Axes>"
            ]
          },
          "metadata": {
            "needs_background": "light"
          }
        }
      ]
    },
    {
      "cell_type": "code",
      "metadata": {
        "colab": {
          "base_uri": "https://localhost:8080/"
        },
        "id": "XGHN1uQZZAdb",
        "outputId": "788425ab-bd7e-4680-9e9f-2e6bec8fd386"
      },
      "source": [
        "# summary statistics of BMI\n",
        "\n",
        "diabetes.BMI.describe()"
      ],
      "execution_count": null,
      "outputs": [
        {
          "output_type": "execute_result",
          "data": {
            "text/plain": [
              "count    768.000000\n",
              "mean      31.992578\n",
              "std        7.884160\n",
              "min        0.000000\n",
              "25%       27.300000\n",
              "50%       32.000000\n",
              "75%       36.600000\n",
              "max       67.100000\n",
              "Name: BMI, dtype: float64"
            ]
          },
          "metadata": {},
          "execution_count": 29
        }
      ]
    },
    {
      "cell_type": "markdown",
      "metadata": {
        "id": "ys3iv5khZAdh"
      },
      "source": [
        "Note your observations."
      ]
    },
    {
      "cell_type": "markdown",
      "metadata": {
        "id": "9liP_V6MtAjz"
      },
      "source": [
        "1. Most people have a BMI of around 30\n",
        "2. Maximum BMI was 67.1\n",
        "3. Average BMI was 31.99\n",
        "4. 25% of the population had a BMI of less than 27.3"
      ]
    },
    {
      "cell_type": "code",
      "metadata": {
        "colab": {
          "base_uri": "https://localhost:8080/",
          "height": 350
        },
        "id": "OT1xGAOtZAdl",
        "outputId": "6f49db3d-c9e9-4510-9804-1f4d8a8d533e"
      },
      "source": [
        "# distribution of DiabetesPedigreeFunction\n",
        "\n",
        "fig, axes = plt.subplots(nrows = 1, ncols = 2, figsize = (12, 4))\n",
        "\n",
        "plt.subplot(1, 2, 1)\n",
        "diabetes.DiabetesPedigreeFunction.hist(color = '#ff7f0e')\n",
        "plt.title('Histogram of DiabetesPedigreeFunction')\n",
        "\n",
        "plt.subplot(1, 2, 2)\n",
        "sns.boxplot(diabetes.DiabetesPedigreeFunction, color = '#9467bd')\n",
        "plt.title('Box plot of DiabetesPedigreeFunction')\n",
        "\n",
        "plt.show()"
      ],
      "execution_count": null,
      "outputs": [
        {
          "output_type": "stream",
          "name": "stderr",
          "text": [
            "/usr/local/lib/python3.7/dist-packages/seaborn/_decorators.py:43: FutureWarning: Pass the following variable as a keyword arg: x. From version 0.12, the only valid positional argument will be `data`, and passing other arguments without an explicit keyword will result in an error or misinterpretation.\n",
            "  FutureWarning\n"
          ]
        },
        {
          "output_type": "display_data",
          "data": {
            "image/png": "[encoded data removed]",
            "text/plain": [
              "<Figure size 864x288 with 2 Axes>"
            ]
          },
          "metadata": {
            "needs_background": "light"
          }
        }
      ]
    },
    {
      "cell_type": "code",
      "metadata": {
        "colab": {
          "base_uri": "https://localhost:8080/"
        },
        "id": "L8OBUCJqZAdo",
        "outputId": "b4511b25-3e95-4bf6-b557-3d48f061c403"
      },
      "source": [
        "# summary statistics of DiabetesPedigreeFunction\n",
        "\n",
        "diabetes.DiabetesPedigreeFunction.describe()"
      ],
      "execution_count": null,
      "outputs": [
        {
          "output_type": "execute_result",
          "data": {
            "text/plain": [
              "count    768.000000\n",
              "mean       0.471876\n",
              "std        0.331329\n",
              "min        0.078000\n",
              "25%        0.243750\n",
              "50%        0.372500\n",
              "75%        0.626250\n",
              "max        2.420000\n",
              "Name: DiabetesPedigreeFunction, dtype: float64"
            ]
          },
          "metadata": {},
          "execution_count": 31
        }
      ]
    },
    {
      "cell_type": "markdown",
      "metadata": {
        "id": "_lzYOoTYZAdr"
      },
      "source": [
        "Note your observations."
      ]
    },
    {
      "cell_type": "markdown",
      "metadata": {
        "id": "UoB7b2p44Gpy"
      },
      "source": [
        "1. Variable is left skewed\n",
        "2. Half of the participants have a DiabetesPedigreeFunction of less than 0.37\n",
        "3. Standard deviation is at 0.33\n",
        "4. Multiple outliers on the upper end"
      ]
    },
    {
      "cell_type": "code",
      "metadata": {
        "colab": {
          "base_uri": "https://localhost:8080/",
          "height": 350
        },
        "id": "BpRC_5DKZAdy",
        "outputId": "6dcaf208-bbfe-413c-89d1-8555c2abf384"
      },
      "source": [
        "# distribution of Age\n",
        "fig, axes = plt.subplots(nrows = 1, ncols = 2, figsize = (12, 4))\n",
        "\n",
        "plt.subplot(1, 2, 1)\n",
        "diabetes.Age.hist(color = '#ff7f0e')\n",
        "plt.title('Histogram of Age')\n",
        "\n",
        "plt.subplot(1, 2, 2)\n",
        "sns.boxplot(diabetes.Age, color = '#9467bd')\n",
        "plt.title('Box plot of Age')\n",
        "\n",
        "plt.show()"
      ],
      "execution_count": null,
      "outputs": [
        {
          "output_type": "stream",
          "name": "stderr",
          "text": [
            "/usr/local/lib/python3.7/dist-packages/seaborn/_decorators.py:43: FutureWarning: Pass the following variable as a keyword arg: x. From version 0.12, the only valid positional argument will be `data`, and passing other arguments without an explicit keyword will result in an error or misinterpretation.\n",
            "  FutureWarning\n"
          ]
        },
        {
          "output_type": "display_data",
          "data": {
            "image/png": "[encoded data removed]",
            "text/plain": [
              "<Figure size 864x288 with 2 Axes>"
            ]
          },
          "metadata": {
            "needs_background": "light"
          }
        }
      ]
    },
    {
      "cell_type": "code",
      "metadata": {
        "colab": {
          "base_uri": "https://localhost:8080/"
        },
        "id": "w3hJyT8XZAd9",
        "outputId": "39519b8e-29d5-4f5a-b2d9-da489565343b"
      },
      "source": [
        "# summary statistics of Age\n",
        "\n",
        "\n",
        "diabetes.Age.describe()"
      ],
      "execution_count": null,
      "outputs": [
        {
          "output_type": "execute_result",
          "data": {
            "text/plain": [
              "count    768.000000\n",
              "mean      33.240885\n",
              "std       11.760232\n",
              "min       21.000000\n",
              "25%       24.000000\n",
              "50%       29.000000\n",
              "75%       41.000000\n",
              "max       81.000000\n",
              "Name: Age, dtype: float64"
            ]
          },
          "metadata": {},
          "execution_count": 33
        }
      ]
    },
    {
      "cell_type": "markdown",
      "metadata": {
        "id": "qXjFest4ZAeB"
      },
      "source": [
        "Note your observations."
      ]
    },
    {
      "cell_type": "markdown",
      "metadata": {
        "id": "liDzaN0Q5Gjz"
      },
      "source": [
        "1. Average age of the population is 33 years\n",
        "2. The oldest participant is 81 years\n",
        "3. The youngest participant is 21 years\n",
        "4. Most of the participants are around 24 years of age\n",
        "5. 75% of the participants are below 41 years"
      ]
    },
    {
      "cell_type": "code",
      "metadata": {
        "colab": {
          "base_uri": "https://localhost:8080/",
          "height": 319
        },
        "id": "wPEWGehNZAeE",
        "outputId": "8d429be1-ee9b-44d6-e7b1-75632ee857c9"
      },
      "source": [
        "# distribution of outcome - create a pie chart\n",
        "\n",
        "plt.figure(figsize=(5,5))\n",
        "plt.pie(diabetes['Outcome'].value_counts(), startangle = 120, autopct = '%1.1f%%', labels=['0', '1'], shadow=True)\n",
        "plt.title('Outcome distribution')\n",
        "plt.show()"
      ],
      "execution_count": null,
      "outputs": [
        {
          "output_type": "display_data",
          "data": {
            "image/png": "[encoded data removed]",
            "text/plain": [
              "<Figure size 360x360 with 1 Axes>"
            ]
          },
          "metadata": {}
        }
      ]
    },
    {
      "cell_type": "markdown",
      "metadata": {
        "id": "_3RFBJyyZAeG"
      },
      "source": [
        "Note your observations."
      ]
    },
    {
      "cell_type": "markdown",
      "metadata": {
        "id": "8Q_Z8Ul5EiTx"
      },
      "source": [
        "1. 34.9% of the participants are diabetic\n",
        "2. 65.1% are not diabetic"
      ]
    },
    {
      "cell_type": "markdown",
      "metadata": {
        "id": "3lxiprbCZAeH"
      },
      "source": [
        "### 3.2 Research-Specific Analysis"
      ]
    },
    {
      "cell_type": "markdown",
      "metadata": {
        "id": "Va1fXT7BZAeH"
      },
      "source": [
        "Since our research question requires us to discover the factors that determine whether a patient has diabetes or not, we will make the 'Outcome' variable our main focus during this analysis."
      ]
    },
    {
      "cell_type": "code",
      "metadata": {
        "colab": {
          "base_uri": "https://localhost:8080/",
          "height": 350
        },
        "id": "Xx1ijV3fZAeI",
        "outputId": "4ef91b93-5749-4645-d756-81b4a480e4e8"
      },
      "source": [
        "# box and bar plots of Pregnancies by Outcome\n",
        "fig, axes = plt.subplots(nrows = 1, ncols = 2, figsize = (12, 4))\n",
        "\n",
        "plt.subplot(1, 2, 1)\n",
        "sns.barplot(data = diabetes, x = 'Outcome', y = 'Pregnancies')\n",
        "plt.title('Bar plot of Outcome by Pregnancies')\n",
        "\n",
        "plt.subplot(1, 2, 2)\n",
        "sns.boxplot(diabetes.Pregnancies, diabetes.Outcome, orient = 'h')\n",
        "plt.title('Box plot of Pregnancies by Outcome')\n",
        "\n",
        "plt.show()"
      ],
      "execution_count": null,
      "outputs": [
        {
          "output_type": "stream",
          "name": "stderr",
          "text": [
            "/usr/local/lib/python3.7/dist-packages/seaborn/_decorators.py:43: FutureWarning: Pass the following variables as keyword args: x, y. From version 0.12, the only valid positional argument will be `data`, and passing other arguments without an explicit keyword will result in an error or misinterpretation.\n",
            "  FutureWarning\n"
          ]
        },
        {
          "output_type": "display_data",
          "data": {
            "image/png": "[encoded data removed]",
            "text/plain": [
              "<Figure size 864x288 with 2 Axes>"
            ]
          },
          "metadata": {
            "needs_background": "light"
          }
        }
      ]
    },
    {
      "cell_type": "markdown",
      "metadata": {
        "id": "uY8bKfbsZAeN"
      },
      "source": [
        "What do you notice?"
      ]
    },
    {
      "cell_type": "markdown",
      "metadata": {
        "id": "a_Un7B_6JLfJ"
      },
      "source": [
        "Most people who are diabetic have had more pregnancies"
      ]
    },
    {
      "cell_type": "code",
      "metadata": {
        "colab": {
          "base_uri": "https://localhost:8080/",
          "height": 350
        },
        "id": "db8v0fvRZAeQ",
        "outputId": "11918b70-4a96-426d-886d-2910bda97211"
      },
      "source": [
        "# box and bar plots of Glucose by Outcome\n",
        "\n",
        "fig, axes = plt.subplots(nrows = 1, ncols = 2, figsize = (12, 4))\n",
        "\n",
        "plt.subplot(1, 2, 1)\n",
        "sns.barplot(data = diabetes, x = 'Outcome', y = 'Glucose')\n",
        "plt.title('Bar plot of Outcome by Glucose')\n",
        "\n",
        "plt.subplot(1, 2, 2)\n",
        "sns.boxplot(diabetes.Glucose, diabetes.Outcome, orient = 'h')\n",
        "plt.title('Box plot of Glucose by Outcome')\n",
        "\n",
        "plt.show()"
      ],
      "execution_count": null,
      "outputs": [
        {
          "output_type": "stream",
          "name": "stderr",
          "text": [
            "/usr/local/lib/python3.7/dist-packages/seaborn/_decorators.py:43: FutureWarning: Pass the following variables as keyword args: x, y. From version 0.12, the only valid positional argument will be `data`, and passing other arguments without an explicit keyword will result in an error or misinterpretation.\n",
            "  FutureWarning\n"
          ]
        },
        {
          "output_type": "display_data",
          "data": {
            "image/png": "[encoded data removed]",
            "text/plain": [
              "<Figure size 864x288 with 2 Axes>"
            ]
          },
          "metadata": {
            "needs_background": "light"
          }
        }
      ]
    },
    {
      "cell_type": "markdown",
      "metadata": {
        "id": "xneiKQtLZAeT"
      },
      "source": [
        "Note your observartions."
      ]
    },
    {
      "cell_type": "markdown",
      "metadata": {
        "id": "u1m-qVHIGqlN"
      },
      "source": [
        "Most people who are diabetic have high blood glucose as well"
      ]
    },
    {
      "cell_type": "code",
      "metadata": {
        "colab": {
          "base_uri": "https://localhost:8080/",
          "height": 350
        },
        "id": "RIdeopqYZAeb",
        "outputId": "ae7fed74-b7eb-42f3-c169-6e225903d59b"
      },
      "source": [
        "# box and bar plots of BloodPressure by Outcome\n",
        "fig, axes = plt.subplots(nrows = 1, ncols = 2, figsize = (12, 4))\n",
        "\n",
        "plt.subplot(1, 2, 1)\n",
        "sns.barplot(data = diabetes, x = 'Outcome', y = 'BloodPressure')\n",
        "plt.title('Bar plot of Outcome by BloodPressure')\n",
        "\n",
        "plt.subplot(1, 2, 2)\n",
        "sns.boxplot(diabetes.BloodPressure, diabetes.Outcome, orient = 'h')\n",
        "plt.title('Box plot of BloodPressure by Outcome')\n",
        "\n",
        "plt.show()"
      ],
      "execution_count": null,
      "outputs": [
        {
          "output_type": "stream",
          "name": "stderr",
          "text": [
            "/usr/local/lib/python3.7/dist-packages/seaborn/_decorators.py:43: FutureWarning: Pass the following variables as keyword args: x, y. From version 0.12, the only valid positional argument will be `data`, and passing other arguments without an explicit keyword will result in an error or misinterpretation.\n",
            "  FutureWarning\n"
          ]
        },
        {
          "output_type": "display_data",
          "data": {
            "image/png": "[encoded data removed]",
            "text/plain": [
              "<Figure size 864x288 with 2 Axes>"
            ]
          },
          "metadata": {
            "needs_background": "light"
          }
        }
      ]
    },
    {
      "cell_type": "markdown",
      "metadata": {
        "id": "7B1cClwXZAei"
      },
      "source": [
        "Note your observations."
      ]
    },
    {
      "cell_type": "markdown",
      "metadata": {
        "id": "m76v2hW-G07T"
      },
      "source": [
        "Blood pressure and diabetes are linked but not to a great extent"
      ]
    },
    {
      "cell_type": "code",
      "metadata": {
        "colab": {
          "base_uri": "https://localhost:8080/",
          "height": 350
        },
        "id": "YSN2Cy6tZAfV",
        "outputId": "5dc7926a-970d-4ea0-db2d-55861b35ccfa"
      },
      "source": [
        "# box and bar plots of SkinThickness by Outcome\n",
        "fig, axes = plt.subplots(nrows = 1, ncols = 2, figsize = (12, 4))\n",
        "\n",
        "plt.subplot(1, 2, 1)\n",
        "sns.barplot(data = diabetes, x = 'Outcome', y = 'SkinThickness')\n",
        "plt.title('Bar plot of Outcome by SkinThickness')\n",
        "\n",
        "plt.subplot(1, 2, 2)\n",
        "sns.boxplot(diabetes.SkinThickness, diabetes.Outcome, orient = 'h')\n",
        "plt.title('Box plot of SkinThickness by Outcome')\n",
        "\n",
        "plt.show()"
      ],
      "execution_count": null,
      "outputs": [
        {
          "output_type": "stream",
          "name": "stderr",
          "text": [
            "/usr/local/lib/python3.7/dist-packages/seaborn/_decorators.py:43: FutureWarning: Pass the following variables as keyword args: x, y. From version 0.12, the only valid positional argument will be `data`, and passing other arguments without an explicit keyword will result in an error or misinterpretation.\n",
            "  FutureWarning\n"
          ]
        },
        {
          "output_type": "display_data",
          "data": {
            "image/png": "[encoded data removed]",
            "text/plain": [
              "<Figure size 864x288 with 2 Axes>"
            ]
          },
          "metadata": {
            "needs_background": "light"
          }
        }
      ]
    },
    {
      "cell_type": "markdown",
      "metadata": {
        "id": "xUEyx7VVZAfd"
      },
      "source": [
        "Note your observations."
      ]
    },
    {
      "cell_type": "markdown",
      "metadata": {
        "id": "eHEfjeK0HSpD"
      },
      "source": [
        "On average, diabetic people have thicker skin compared to non-diabetic people"
      ]
    },
    {
      "cell_type": "code",
      "metadata": {
        "colab": {
          "base_uri": "https://localhost:8080/",
          "height": 350
        },
        "id": "TOTTE_rKZAge",
        "outputId": "be478a1c-70b7-4aa3-f79d-d655e5cba05a"
      },
      "source": [
        "# box and bar plots of Insulin by Outcome\n",
        "fig, axes = plt.subplots(nrows = 1, ncols = 2, figsize = (12, 4))\n",
        "\n",
        "plt.subplot(1, 2, 1)\n",
        "sns.barplot(data = diabetes, x = 'Outcome', y = 'Insulin')\n",
        "plt.title('Bar plot of Outcome by Insulin')\n",
        "\n",
        "plt.subplot(1, 2, 2)\n",
        "sns.boxplot(diabetes.Insulin, diabetes.Outcome, orient = 'h')\n",
        "plt.title('Box plot of Insulin by Outcome')\n",
        "\n",
        "plt.show()"
      ],
      "execution_count": null,
      "outputs": [
        {
          "output_type": "stream",
          "name": "stderr",
          "text": [
            "/usr/local/lib/python3.7/dist-packages/seaborn/_decorators.py:43: FutureWarning: Pass the following variables as keyword args: x, y. From version 0.12, the only valid positional argument will be `data`, and passing other arguments without an explicit keyword will result in an error or misinterpretation.\n",
            "  FutureWarning\n"
          ]
        },
        {
          "output_type": "display_data",
          "data": {
            "image/png": "[encoded data removed]",
            "text/plain": [
              "<Figure size 864x288 with 2 Axes>"
            ]
          },
          "metadata": {
            "needs_background": "light"
          }
        }
      ]
    },
    {
      "cell_type": "markdown",
      "metadata": {
        "id": "LMptMt3aZAgs"
      },
      "source": [
        "Note your observations."
      ]
    },
    {
      "cell_type": "markdown",
      "metadata": {
        "id": "6bftoKKKHrOx"
      },
      "source": [
        "People with high insulin are more likely to be diabetic"
      ]
    },
    {
      "cell_type": "code",
      "metadata": {
        "colab": {
          "base_uri": "https://localhost:8080/",
          "height": 350
        },
        "id": "KZcufW3vZAg4",
        "outputId": "dfae5b2f-bb3f-45a8-bd77-817ec6cf4f29"
      },
      "source": [
        "# box and bar plots of BMI by Outcome\n",
        "\n",
        "fig, axes = plt.subplots(nrows = 1, ncols = 2, figsize = (12, 4))\n",
        "\n",
        "plt.subplot(1, 2, 1)\n",
        "sns.barplot(data = diabetes, x = 'Outcome', y = 'BMI')\n",
        "plt.title('Bar plot of Outcome by BMI')\n",
        "\n",
        "plt.subplot(1, 2, 2)\n",
        "sns.boxplot(diabetes.BMI, diabetes.Outcome, orient = 'h')\n",
        "plt.title('Box plot of BMI by Outcome')\n",
        "\n",
        "plt.show()"
      ],
      "execution_count": null,
      "outputs": [
        {
          "output_type": "stream",
          "name": "stderr",
          "text": [
            "/usr/local/lib/python3.7/dist-packages/seaborn/_decorators.py:43: FutureWarning: Pass the following variables as keyword args: x, y. From version 0.12, the only valid positional argument will be `data`, and passing other arguments without an explicit keyword will result in an error or misinterpretation.\n",
            "  FutureWarning\n"
          ]
        },
        {
          "output_type": "display_data",
          "data": {
            "image/png": "[encoded data removed]",
            "text/plain": [
              "<Figure size 864x288 with 2 Axes>"
            ]
          },
          "metadata": {
            "needs_background": "light"
          }
        }
      ]
    },
    {
      "cell_type": "markdown",
      "metadata": {
        "id": "Wa86BMksZAg7"
      },
      "source": [
        "Note your observations."
      ]
    },
    {
      "cell_type": "markdown",
      "metadata": {
        "id": "HnmBLgaPISgp"
      },
      "source": [
        "Diabetic people are likely to have a higher BMI than non-diabetic people"
      ]
    },
    {
      "cell_type": "code",
      "metadata": {
        "colab": {
          "base_uri": "https://localhost:8080/",
          "height": 350
        },
        "id": "7yT9cCtNZAg_",
        "outputId": "0c518c08-2153-4507-81fe-b6130f7d3fe6"
      },
      "source": [
        "# box and bar plots of DiabetesPedigreeFunction by Outcome\n",
        "fig, axes = plt.subplots(nrows = 1, ncols = 2, figsize = (12, 4))\n",
        "\n",
        "plt.subplot(1, 2, 1)\n",
        "sns.barplot(data = diabetes, x = 'Outcome', y = 'DiabetesPedigreeFunction')\n",
        "plt.title('Bar plot of Outcome by DiabetesPedigreeFunction')\n",
        "\n",
        "plt.subplot(1, 2, 2)\n",
        "sns.boxplot(diabetes.DiabetesPedigreeFunction, diabetes.Outcome, orient = 'h')\n",
        "plt.title('Box plot of DiabetesPedigreeFunction by Outcome')\n",
        "\n",
        "plt.show()"
      ],
      "execution_count": null,
      "outputs": [
        {
          "output_type": "stream",
          "name": "stderr",
          "text": [
            "/usr/local/lib/python3.7/dist-packages/seaborn/_decorators.py:43: FutureWarning: Pass the following variables as keyword args: x, y. From version 0.12, the only valid positional argument will be `data`, and passing other arguments without an explicit keyword will result in an error or misinterpretation.\n",
            "  FutureWarning\n"
          ]
        },
        {
          "output_type": "display_data",
          "data": {
            "image/png": "[encoded data removed]",
            "text/plain": [
              "<Figure size 864x288 with 2 Axes>"
            ]
          },
          "metadata": {
            "needs_background": "light"
          }
        }
      ]
    },
    {
      "cell_type": "markdown",
      "metadata": {
        "id": "_sZMWv-SZAhC"
      },
      "source": [
        "Note your observations."
      ]
    },
    {
      "cell_type": "markdown",
      "metadata": {
        "id": "5uIr3PrrIi5B"
      },
      "source": [
        "The higher the DiabetesPedigreeFunction the higher the probability of being diabetic"
      ]
    },
    {
      "cell_type": "code",
      "metadata": {
        "colab": {
          "base_uri": "https://localhost:8080/",
          "height": 350
        },
        "id": "S8eDoOzMZAhN",
        "outputId": "471fe67d-248a-4ba3-b19a-4eb746992c9b"
      },
      "source": [
        "# box and bar plots of Age by Outcome\n",
        "fig, axes = plt.subplots(nrows = 1, ncols = 2, figsize = (12, 4))\n",
        "\n",
        "plt.subplot(1, 2, 1)\n",
        "sns.barplot(data = diabetes, x = 'Outcome', y = 'Age')\n",
        "plt.title('Bar plot of Outcome by Age')\n",
        "\n",
        "plt.subplot(1, 2, 2)\n",
        "sns.boxplot(diabetes.Age, diabetes.Outcome, orient = 'h')\n",
        "plt.title('Box plot of Age by Outcome')\n",
        "\n",
        "plt.show()"
      ],
      "execution_count": null,
      "outputs": [
        {
          "output_type": "stream",
          "name": "stderr",
          "text": [
            "/usr/local/lib/python3.7/dist-packages/seaborn/_decorators.py:43: FutureWarning: Pass the following variables as keyword args: x, y. From version 0.12, the only valid positional argument will be `data`, and passing other arguments without an explicit keyword will result in an error or misinterpretation.\n",
            "  FutureWarning\n"
          ]
        },
        {
          "output_type": "display_data",
          "data": {
            "image/png": "[encoded data removed]",
            "text/plain": [
              "<Figure size 864x288 with 2 Axes>"
            ]
          },
          "metadata": {
            "needs_background": "light"
          }
        }
      ]
    },
    {
      "cell_type": "markdown",
      "metadata": {
        "id": "E14nQPS5ZAhW"
      },
      "source": [
        "Note your observations."
      ]
    },
    {
      "cell_type": "markdown",
      "metadata": {
        "id": "9x8P_EMjIsh4"
      },
      "source": [
        "Older people are more predisposed to diabetes than younger people"
      ]
    },
    {
      "cell_type": "markdown",
      "metadata": {
        "id": "vTbdjSrhVIiT"
      },
      "source": [
        "## <font color='#2F4F4F'>4. Summary of Findings</font>"
      ]
    },
    {
      "cell_type": "markdown",
      "metadata": {
        "id": "PdHyc8WYHlAG"
      },
      "source": [
        "1. High insulin levels are associated with diabetes\n",
        "2. Age is a factor in diabetes, in that the older the person is, the higher they are predisposed to diabetes\n",
        "3. The higher the BMI, the higher the likelihood of being diabetic\n",
        "4. Diabetes and High blood pressure are linked to an extent\n",
        "5. DiabetesPedigreeFunction  can be used to gauge the likelihood of someone being diabetic\n",
        "6. The more the pregnancies an individual has had, the more they are likely to develop diabetes\n",
        "7. Diabetes causes thickening of the skin"
      ]
    },
    {
      "cell_type": "markdown",
      "metadata": {
        "id": "noZz5YRQXKzi"
      },
      "source": [
        "## <font color='#2F4F4F'>5. Recommendations</font>"
      ]
    },
    {
      "cell_type": "markdown",
      "metadata": {
        "id": "wdMBFVe0XSgf"
      },
      "source": [
        "What would you recommend the NGO Hospital to do based on the findings of your analysis?"
      ]
    },
    {
      "cell_type": "markdown",
      "metadata": {
        "id": "NaZ7XRWJK2P3"
      },
      "source": [
        "1. Educate people on healthy practices to attain recommended BMI levels to reduce risk of diabetes\n",
        "2. Champion and encourage checking of BMI, blood pressure and insulin levels during routine checkups to early detect likelihood of someone developing diabetes\n"
      ]
    },
    {
      "cell_type": "markdown",
      "metadata": {
        "id": "xrmHVMVsVS--"
      },
      "source": [
        "## <font color='#2F4F4F'>6. Challenging your Solution</font>"
      ]
    },
    {
      "cell_type": "markdown",
      "metadata": {
        "id": "HPQviDmNtta8"
      },
      "source": [
        "### a) Did we have the right data?\n"
      ]
    },
    {
      "cell_type": "markdown",
      "metadata": {
        "id": "YMZcBDfesbCE"
      },
      "source": [
        "Yes, the data provided was right and sufficient"
      ]
    },
    {
      "cell_type": "markdown",
      "metadata": {
        "id": "CbQa-2odZAhb"
      },
      "source": [
        "### b) Did we have the right question?\n",
        "\n"
      ]
    },
    {
      "cell_type": "markdown",
      "metadata": {
        "id": "_qryWwT_si5T"
      },
      "source": [
        "Yes, we had the right questions"
      ]
    }
  ]
}